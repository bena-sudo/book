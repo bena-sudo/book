{
 "cells": [
  {
   "cell_type": "markdown",
   "metadata": {},
   "source": [
    "# Proyecto de cerp #\n",
    "\n",
    "```\n",
    "src/\n",
    "├── app/\n",
    "│   ├── core/               # Servicios y funcionalidades principales (singleton)\n",
    "│   │   ├── guards/         # Guards para rutas\n",
    "│   │   ├── interceptors/   # Interceptores HTTP\n",
    "│   │   ├── services/       # Servicios globales (e.g., autenticación, notificaciones)\n",
    "│   │   ├── models/         # Interfaces y modelos de datos\n",
    "│   │   ├── utils/          # Utilidades y helpers globales\n",
    "│   │   └── core.module.ts  # Módulo que exporta el core\n",
    "│   │\n",
    "│   ├── shared/             # Componentes, directivas y pipes reutilizables\n",
    "│   │   ├── components/     # Componentes compartidos (e.g., header, footer)\n",
    "│   │   ├── directives/     # Directivas reutilizables\n",
    "│   │   ├── pipes/          # Pipes reutilizables\n",
    "│   │   └── shared.module.ts # Módulo que exporta los elementos compartidos\n",
    "│   │\n",
    "│   ├── features/           # Funcionalidades específicas de la aplicación\n",
    "│   │   ├── auth/           # Módulo para autenticación\n",
    "│   │   │   ├── components/ # Componentes del módulo\n",
    "│   │   │   ├── services/   # Servicios específicos\n",
    "│   │   │   ├── pages/      # Páginas (e.g., login, register)\n",
    "│   │   │   └── auth.module.ts\n",
    "│   │   ├── products/       # Módulo de productos\n",
    "│   │   │   ├── components/ # Componentes (e.g., product-card, product-list)\n",
    "│   │   │   ├── services/   # Servicios específicos de productos\n",
    "│   │   │   ├── pages/      # Páginas (e.g., product-detail, product-list)\n",
    "│   │   │   └── products.module.ts\n",
    "│   │   └── ...             # Más módulos de funcionalidades\n",
    "│   │\n",
    "│   ├── app-routing.module.ts  # Configuración de rutas principales\n",
    "│   ├── app.module.ts          # Módulo principal\n",
    "│   └── app.component.ts       # Componente raíz\n",
    "│\n",
    "├── assets/                   # Archivos estáticos (imágenes, fuentes, etc.)\n",
    "│   ├── images/\n",
    "│   └── styles/\n",
    "│\n",
    "├── environments/             # Configuración de entornos\n",
    "│   ├── environment.ts        # Entorno de desarrollo\n",
    "│   └── environment.prod.ts   # Entorno de producción\n",
    "└── styles.scss               # Estilos globales\n",
    "```"
   ]
  }
 ],
 "metadata": {
  "kernelspec": {
   "display_name": "Deno",
   "language": "typescript",
   "name": "deno"
  },
  "language_info": {
   "codemirror_mode": "typescript",
   "file_extension": ".ts",
   "mimetype": "text/x.typescript",
   "name": "typescript",
   "nbconvert_exporter": "script",
   "pygments_lexer": "typescript",
   "version": "5.6.2"
  }
 },
 "nbformat": 4,
 "nbformat_minor": 2
}