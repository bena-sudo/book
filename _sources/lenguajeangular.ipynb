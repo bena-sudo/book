{
 "cells": [
  {
   "cell_type": "markdown",
   "metadata": {},
   "source": [
    "# Introducción a Angular\n",
    "\n",
    "Angular es un framework de desarrollo web de código abierto, mantenido por Google, para la creación de aplicaciones web front-end dinámicas. Se basa en TypeScript, una extensión de JavaScript que añade tipado estático, para mejorar la legibilidad, mantenibilidad y robustez del código.\n",
    "\n",
    "Angular cambia totalmente la manera de programar. Reduce significativamente el código que hay que escribir a cambio de ser muy rígido en la manera de tratar con los elementos de la aplicación. Por tanto, tiene una curva de aprendizaje un poco alta al principio.\n",
    "\n",
    "**Evolución del nombre y versiones**\n",
    "\n",
    "El framework ha experimentado cambios en su nombre y esquema de versiones a lo largo del tiempo:\n",
    "\n",
    "* **Hasta la versión 1.7:** Angular.js\n",
    "* **Desde la versión 2:** Angular 2, 4, 5, 6, 7, ..., 18 (actual)\n",
    "\n",
    "Cada 6 meses libera una nueva versión. Suelen ser bastante compatibles entre las que están próximas y las últimas son retrocompatibles, excepto entre la 1 y la 2, donde cambió casi todo.\n",
    "\n",
    "**Características principales**\n",
    "\n",
    "* **Expressividad en las plantillas HTML:** Permite crear interfaces de usuario dinámicas y declarativas utilizando sintaxis HTML enriquecida.\n",
    "* **Diseño modular y Lazy Loading:** Promueve la organización del código en módulos reutilizables y la carga en diferido de componentes para optimizar el rendimiento.\n",
    "* **Facilidad para reutilizar componentes:** Fomenta la creación de componentes reutilizables que encapsulan funcionalidad y lógica de negocio, mejorando la modularidad y mantenibilidad del código.\n",
    "* **Comunicación fluida con el backend:** Facilita la comunicación entre la aplicación Angular y el servidor backend, permitiendo diversas tecnologías como RESTful APIs, WebSockets y Server-Side Rendering.\n",
    "* **Herramientas de desarrollo potentes:** Ofrece una completa suite de herramientas de desarrollo, como Augury, Karma y Jasmine, para facilitar la creación, prueba y depuración de aplicaciones.\n",
    "* **Integración con frameworks de diseño:** Se integra perfectamente con frameworks de diseño populares como Bootstrap, Angular Material e Ionic, permitiendo crear interfaces de usuario atractivas y consistentes.\n",
    "* **Single Page Applications (SPAs):** Permite la creación de aplicaciones web de una sola página (SPAs).\n",
    "* **Arquitectura extensible:** Posee un sistema modular extensible que facilita la incorporación de nuevas funcionalidades y bibliotecas de terceros.\n",
    "* **Reactividad simplificada:** Simplifica la gestión de la reactividad en la interfaz de usuario, permitiendo que los cambios en los datos se reflejen automáticamente en la vista.\n",
    "* **DOM virtual:** Implementa un DOM virtual que optimiza el rendimiento y reduce las manipulaciones directas del DOM real.\n",
    "* **Pensado para grandes aplicaciones:** Está diseñado para el desarrollo de aplicaciones web a gran escala, ofreciendo características como el enrutado, la gestión de estado y la inyección de dependencias.\n",
    "\n",
    "**Tipos de aplicaciones web con Angular**\n",
    "\n",
    "Angular se puede utilizar para desarrollar diferentes tipos de aplicaciones web:\n",
    "\n",
    "* **Páginas web tradicionales:** Permite generar páginas web dinámicas con HTML generado en el servidor y Javascript para la interacción y las peticiones AJAX.\n",
    "* **Single Page Applications (SPAs):** Facilita la creación de SPAs que generan el HTML en el cliente a partir de datos JSON o XML enviados por el servidor. Puede que este tipo de APPs sean para las que está más preparado.\n",
    "* **Progressive Web Applications (PWAs):** Brinda soporte para el desarrollo de PWAs, que ofrecen una experiencia similar a las aplicaciones nativas, con la posibilidad de funcionar sin conexión y acceso a las capacidades del dispositivo.\n",
    "* **Aplicaciones híbridas:** Permite la creación de aplicaciones híbridas que se ejecutan dentro de un navegador web mínimo embebido en la aplicación nativa, utilizando tecnologías como Cordova o Ionic.\n"
   ]
  }
 ],
 "metadata": {
  "language_info": {
   "name": "python"
  }
 },
 "nbformat": 4,
 "nbformat_minor": 2
}
